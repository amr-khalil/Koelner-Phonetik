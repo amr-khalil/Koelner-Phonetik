{
 "cells": [
  {
   "cell_type": "markdown",
   "metadata": {},
   "source": [
    "# Analyse semi- und unstrukturierter Daten"
   ]
  },
  {
   "cell_type": "markdown",
   "metadata": {},
   "source": [
    "# Aufgabe 4 |  Kölner Phonetik\n",
    "\n",
    "(praktische Aufgabe mit Rechercheanteil, Abgabe Code – mit kurzer Beschreibung der „wie“ in den\n",
    "ersten Kommentarzeilen, Inputdaten, Beispielsession mit Output)\n",
    "Suchen Sie im Internet nach einer Implementierung der Kölner oder Heidelberger Phonetik. Testen\n",
    "Sie das gefundene an einem Beispiel, in dem Sie zu einer gegebenen Liste das passende („gleich\n",
    "klingende“) Wort aus einer Liste von 5 Wörtern finden."
   ]
  },
  {
   "cell_type": "code",
   "execution_count": 36,
   "metadata": {
    "scrolled": true
   },
   "outputs": [
    {
     "data": {
      "image/png": "[encoded data removed]",
      "text/plain": [
       "<IPython.core.display.Image object>"
      ]
     },
     "execution_count": 36,
     "metadata": {},
     "output_type": "execute_result"
    }
   ],
   "source": [
    "from IPython.display import Image\n",
    "Image(\"imgs/table.png\") # Source Wikipedia"
   ]
  },
  {
   "cell_type": "code",
   "execution_count": 40,
   "metadata": {},
   "outputs": [
    {
     "data": {
      "text/plain": [
       "{re.compile(r'.[A|E|I|J|O|U|Y|Ä|Ö|Ü].', re.IGNORECASE|re.UNICODE): 0}"
      ]
     },
     "execution_count": 40,
     "metadata": {},
     "output_type": "execute_result"
    }
   ],
   "source": [
    "{re.compile(r\".[A|E|I|J|O|U|Y|Ä|Ö|Ü].\", re.I):0}"
   ]
  },
  {
   "cell_type": "code",
   "execution_count": 22,
   "metadata": {},
   "outputs": [],
   "source": [
    "# -*- coding: iso-8859-15 -*-\n",
    "\n",
    "\"\"\"\n",
    "Dieses Modul stellt eine Implementation\n",
    "der 'Kölner Phonetik' dar.\n",
    "\n",
    "\"\"\"\n",
    "\n",
    "import re\n",
    "\n",
    "RULETABLE = {re.compile(r\".[A|E|I|J|O|U|Y|Ä|Ö|Ü].\", re.I):     \"0\",\n",
    "             re.compile(r\".[B].\", re.I):                       \"1\",\n",
    "             re.compile(r\".[P][^H]\", re.I):                    \"1\",\n",
    "             re.compile(r\".[D|T][^C|S|Z]\", re.I):              \"2\",\n",
    "             re.compile(r\".[F|V|W].\", re.I):                   \"3\",\n",
    "             re.compile(r\"[P][H].\", re.I):                     \"3\",\n",
    "             re.compile(r\".[G|K|Q].\", re.I):                   \"4\",\n",
    "             re.compile(r\"[\\b][C][A|H|K|L|O|Q]\", re.I):        \"4\",\n",
    "             re.compile(r\"[^S|Z][C][A|H|K|O|Q|U|X]\", re.I):    \"4\",\n",
    "             re.compile(r\"[^C|K|Q][X].\", re.I):                \"48\",\n",
    "             re.compile(r\".[L].\", re.I):                       \"5\",\n",
    "             re.compile(r\".[M|N].\", re.I):                     \"6\",\n",
    "             re.compile(r\".[R].\", re.I):                       \"7\",\n",
    "             re.compile(r\".[S|Z|ß].\", re.I):                   \"8\",\n",
    "             re.compile(r\"[S|Z][C].\", re.I):                   \"8\",\n",
    "             re.compile(r\"\\b[C][^A|H|K|L|O|Q|R|U|X]\", re.I):   \"8\",\n",
    "             re.compile(r\".[C][^A|H|K|O|Q|U|X]\", re.I):        \"8\",\n",
    "             re.compile(r\".[D|T][C|S|Z]\", re.I):               \"8\",\n",
    "             re.compile(r\"[C|K|Q][X].\", re.I):                 \"8\"\n",
    "            }\n",
    "\n",
    "def encode(string):\n",
    "    \n",
    "    encoded = \"\"\n",
    "    for i in range(len(string)):\n",
    "        part = string[i - 1:i + 2]\n",
    "        if len(string) == 1:\n",
    "            part = \" %s \" % string[0]\n",
    "        elif i == 0:\n",
    "            part = \" %s\" % string[:2]\n",
    "        elif i == len(string) - 1:\n",
    "            part = \"%s \" % string[i - 1:]\n",
    "        for rule, code in RULETABLE.items():\n",
    "            if rule.match(part):\n",
    "                encoded += code\n",
    "                break\n",
    "\n",
    "    while [v for v in RULETABLE.values() if encoded.find(v * 2) != -1]:\n",
    "        for v in RULETABLE.values():\n",
    "            encoded = encoded.replace(v * 2, v)\n",
    "\n",
    "    if encoded:\n",
    "        encoded = encoded[0] + encoded[1:].replace(\"0\", \"\")\n",
    "\n",
    "    return encoded"
   ]
  },
  {
   "cell_type": "code",
   "execution_count": 23,
   "metadata": {},
   "outputs": [
    {
     "name": "stdout",
     "output_type": "stream",
     "text": [
      "67657\n",
      "67657\n",
      "67657\n",
      "67657\n",
      "67657\n"
     ]
    }
   ],
   "source": [
    "print(encode(\"Maria Miller\"))\n",
    "print(encode(\"Maria Müller\"))\n",
    "print(encode(\"Mary Miller\"))\n",
    "print(encode(\"Maryam Miller\"))\n",
    "print(encode(\"Maria Meller\"))"
   ]
  },
  {
   "cell_type": "code",
   "execution_count": null,
   "metadata": {},
   "outputs": [],
   "source": []
  }
 ],
 "metadata": {
  "kernelspec": {
   "display_name": "Python 3",
   "language": "python",
   "name": "python3"
  },
  "language_info": {
   "codemirror_mode": {
    "name": "ipython",
    "version": 3
   },
   "file_extension": ".py",
   "mimetype": "text/x-python",
   "name": "python",
   "nbconvert_exporter": "python",
   "pygments_lexer": "ipython3",
   "version": "3.7.2"
  }
 },
 "nbformat": 4,
 "nbformat_minor": 4
}
